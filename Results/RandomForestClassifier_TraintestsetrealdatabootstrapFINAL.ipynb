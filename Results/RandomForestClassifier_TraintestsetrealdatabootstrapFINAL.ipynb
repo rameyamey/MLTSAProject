{
  "nbformat": 4,
  "nbformat_minor": 0,
  "metadata": {
    "colab": {
      "name": "RandomForestClassifier_TraintestsetrealdatabootstrapFINAL.ipynb",
      "provenance": [],
      "collapsed_sections": []
    },
    "kernelspec": {
      "name": "python3",
      "display_name": "Python 3"
    }
  },
  "cells": [
    {
      "cell_type": "markdown",
      "metadata": {
        "id": "1wNFIZfwEvpv",
        "colab_type": "text"
      },
      "source": [
        "Import Data and packages"
      ]
    },
    {
      "cell_type": "code",
      "metadata": {
        "id": "eRVedbYDFFlf",
        "colab_type": "code",
        "outputId": "66fb2c85-3ed5-4a33-a551-0c0befeac29c",
        "colab": {
          "base_uri": "https://localhost:8080/",
          "height": 35
        }
      },
      "source": [
        "import pandas as pd\n",
        "import pylab as pl\n",
        "import shapely\n",
        "import json\n",
        "import sklearn\n",
        "import numpy as np\n",
        "\n",
        "\n",
        "%pylab inline"
      ],
      "execution_count": 0,
      "outputs": [
        {
          "output_type": "stream",
          "text": [
            "Populating the interactive namespace from numpy and matplotlib\n"
          ],
          "name": "stdout"
        }
      ]
    },
    {
      "cell_type": "code",
      "metadata": {
        "id": "lX2qYeBIY8RZ",
        "colab_type": "code",
        "outputId": "e45437a2-14a5-498e-c4e8-716872a1e980",
        "colab": {
          "base_uri": "https://localhost:8080/",
          "height": 34
        }
      },
      "source": [
        "from google.colab import drive\n",
        "\n",
        "drive.mount(\"/content/gdrive\")"
      ],
      "execution_count": 0,
      "outputs": [
        {
          "output_type": "stream",
          "text": [
            "Drive already mounted at /content/gdrive; to attempt to forcibly remount, call drive.mount(\"/content/gdrive\", force_remount=True).\n"
          ],
          "name": "stdout"
        }
      ]
    },
    {
      "cell_type": "code",
      "metadata": {
        "id": "-JHjlLPYY-z4",
        "colab_type": "code",
        "outputId": "acf75930-70ff-465f-dab3-62e1a1caf667",
        "colab": {
          "base_uri": "https://localhost:8080/",
          "height": 52
        }
      },
      "source": [
        "cd gdrive"
      ],
      "execution_count": 0,
      "outputs": [
        {
          "output_type": "stream",
          "text": [
            "[Errno 2] No such file or directory: 'gdrive'\n",
            "/content/gdrive\n"
          ],
          "name": "stdout"
        }
      ]
    },
    {
      "cell_type": "code",
      "metadata": {
        "id": "MDQHCIanZBN-",
        "colab_type": "code",
        "outputId": "a9771c26-1b46-4ac7-95a0-c71dbacdab99",
        "colab": {
          "base_uri": "https://localhost:8080/",
          "height": 34
        }
      },
      "source": [
        "cd My\\ Drive"
      ],
      "execution_count": 0,
      "outputs": [
        {
          "output_type": "stream",
          "text": [
            "/content/gdrive/My Drive\n"
          ],
          "name": "stdout"
        }
      ]
    },
    {
      "cell_type": "code",
      "metadata": {
        "id": "09ErqImEZD7P",
        "colab_type": "code",
        "outputId": "f4eb92c9-227c-4fff-a80c-ff15f649efdc",
        "colab": {
          "base_uri": "https://localhost:8080/",
          "height": 34
        }
      },
      "source": [
        "cd HW5/"
      ],
      "execution_count": 0,
      "outputs": [
        {
          "output_type": "stream",
          "text": [
            "/content/gdrive/My Drive/HW5\n"
          ],
          "name": "stdout"
        }
      ]
    },
    {
      "cell_type": "markdown",
      "metadata": {
        "id": "1UuYkSS_WMB_",
        "colab_type": "text"
      },
      "source": [
        "# LOAD DATA"
      ]
    },
    {
      "cell_type": "code",
      "metadata": {
        "id": "uEyTsrxCE0t3",
        "colab_type": "code",
        "colab": {}
      },
      "source": [
        "StockInfo = pd.read_csv('https://raw.githubusercontent.com/rameyamey/MLTSAProject/master/RF2finalcoded.csv')"
      ],
      "execution_count": 0,
      "outputs": []
    },
    {
      "cell_type": "code",
      "metadata": {
        "id": "CLI1h3VQWYKG",
        "colab_type": "code",
        "outputId": "3ebf6da7-eafa-4c7f-a110-b16665ec2c57",
        "colab": {
          "base_uri": "https://localhost:8080/",
          "height": 35
        }
      },
      "source": [
        "StockInfo.shape"
      ],
      "execution_count": 0,
      "outputs": [
        {
          "output_type": "execute_result",
          "data": {
            "text/plain": [
              "(221, 16)"
            ]
          },
          "metadata": {
            "tags": []
          },
          "execution_count": 4
        }
      ]
    },
    {
      "cell_type": "markdown",
      "metadata": {
        "id": "xQAAg2JQWPlp",
        "colab_type": "text"
      },
      "source": [
        "# REPLACE EMPTY CELLS IN A UNIFORM FASHION"
      ]
    },
    {
      "cell_type": "code",
      "metadata": {
        "id": "a1Atq4qoF_KX",
        "colab_type": "code",
        "colab": {}
      },
      "source": [
        "StockInfo = StockInfo.replace([np.inf, -np.inf], np.nan)"
      ],
      "execution_count": 0,
      "outputs": []
    },
    {
      "cell_type": "markdown",
      "metadata": {
        "id": "HLZ35ho4WXWF",
        "colab_type": "text"
      },
      "source": [
        "# CHECK DATA VALUES AND EXTRACT VARIABLE NAMES"
      ]
    },
    {
      "cell_type": "code",
      "metadata": {
        "id": "elDwTWmmHE9i",
        "colab_type": "code",
        "outputId": "1d132a96-177f-4c75-bd53-57a1fc79cb8e",
        "colab": {
          "base_uri": "https://localhost:8080/",
          "height": 218
        }
      },
      "source": [
        "StockInfo.head()\n"
      ],
      "execution_count": 0,
      "outputs": [
        {
          "output_type": "execute_result",
          "data": {
            "text/html": [
              "<div>\n",
              "<style scoped>\n",
              "    .dataframe tbody tr th:only-of-type {\n",
              "        vertical-align: middle;\n",
              "    }\n",
              "\n",
              "    .dataframe tbody tr th {\n",
              "        vertical-align: top;\n",
              "    }\n",
              "\n",
              "    .dataframe thead th {\n",
              "        text-align: right;\n",
              "    }\n",
              "</style>\n",
              "<table border=\"1\" class=\"dataframe\">\n",
              "  <thead>\n",
              "    <tr style=\"text-align: right;\">\n",
              "      <th></th>\n",
              "      <th>CompanyNo</th>\n",
              "      <th>Gender</th>\n",
              "      <th>Age</th>\n",
              "      <th>Educationcoded</th>\n",
              "      <th>children</th>\n",
              "      <th>sectorcode</th>\n",
              "      <th>popperlesshS</th>\n",
              "      <th>population</th>\n",
              "      <th>popbelowpovlevel</th>\n",
              "      <th>percentmenbusiness</th>\n",
              "      <th>percentfemalebusiness</th>\n",
              "      <th>implicitatt</th>\n",
              "      <th>exp1career</th>\n",
              "      <th>exp2fam</th>\n",
              "      <th>Slopeafterhire</th>\n",
              "      <th>fullslope</th>\n",
              "    </tr>\n",
              "  </thead>\n",
              "  <tbody>\n",
              "    <tr>\n",
              "      <th>0</th>\n",
              "      <td>1</td>\n",
              "      <td>2</td>\n",
              "      <td>76</td>\n",
              "      <td>1.0</td>\n",
              "      <td>NaN</td>\n",
              "      <td>1</td>\n",
              "      <td>7.8</td>\n",
              "      <td>834615</td>\n",
              "      <td>10.7</td>\n",
              "      <td>55.2</td>\n",
              "      <td>44.8</td>\n",
              "      <td>0.363725</td>\n",
              "      <td>4.391218</td>\n",
              "      <td>3.584493</td>\n",
              "      <td>0.006573</td>\n",
              "      <td>0.006573</td>\n",
              "    </tr>\n",
              "    <tr>\n",
              "      <th>1</th>\n",
              "      <td>2</td>\n",
              "      <td>2</td>\n",
              "      <td>62</td>\n",
              "      <td>2.0</td>\n",
              "      <td>NaN</td>\n",
              "      <td>2</td>\n",
              "      <td>9.6</td>\n",
              "      <td>6138382</td>\n",
              "      <td>8.0</td>\n",
              "      <td>52.1</td>\n",
              "      <td>47.9</td>\n",
              "      <td>0.342364</td>\n",
              "      <td>4.349400</td>\n",
              "      <td>3.430855</td>\n",
              "      <td>0.000281</td>\n",
              "      <td>0.000281</td>\n",
              "    </tr>\n",
              "    <tr>\n",
              "      <th>2</th>\n",
              "      <td>3</td>\n",
              "      <td>2</td>\n",
              "      <td>58</td>\n",
              "      <td>1.0</td>\n",
              "      <td>NaN</td>\n",
              "      <td>3</td>\n",
              "      <td>9.6</td>\n",
              "      <td>6138382</td>\n",
              "      <td>8.0</td>\n",
              "      <td>52.1</td>\n",
              "      <td>47.9</td>\n",
              "      <td>0.342364</td>\n",
              "      <td>4.349400</td>\n",
              "      <td>3.430855</td>\n",
              "      <td>-0.001718</td>\n",
              "      <td>-0.001718</td>\n",
              "    </tr>\n",
              "    <tr>\n",
              "      <th>3</th>\n",
              "      <td>4</td>\n",
              "      <td>2</td>\n",
              "      <td>62</td>\n",
              "      <td>3.0</td>\n",
              "      <td>4.0</td>\n",
              "      <td>4</td>\n",
              "      <td>10.7</td>\n",
              "      <td>5779463</td>\n",
              "      <td>13.1</td>\n",
              "      <td>54.1</td>\n",
              "      <td>45.9</td>\n",
              "      <td>0.344999</td>\n",
              "      <td>4.355876</td>\n",
              "      <td>3.409393</td>\n",
              "      <td>-0.004694</td>\n",
              "      <td>-0.004557</td>\n",
              "    </tr>\n",
              "    <tr>\n",
              "      <th>4</th>\n",
              "      <td>5</td>\n",
              "      <td>1</td>\n",
              "      <td>58</td>\n",
              "      <td>4.0</td>\n",
              "      <td>2.0</td>\n",
              "      <td>5</td>\n",
              "      <td>10.7</td>\n",
              "      <td>5779463</td>\n",
              "      <td>13.1</td>\n",
              "      <td>54.1</td>\n",
              "      <td>45.9</td>\n",
              "      <td>0.344999</td>\n",
              "      <td>4.355876</td>\n",
              "      <td>3.409393</td>\n",
              "      <td>-0.007051</td>\n",
              "      <td>-0.007051</td>\n",
              "    </tr>\n",
              "  </tbody>\n",
              "</table>\n",
              "</div>"
            ],
            "text/plain": [
              "   CompanyNo  Gender  Age  ...   exp2fam  Slopeafterhire  fullslope\n",
              "0          1       2   76  ...  3.584493        0.006573   0.006573\n",
              "1          2       2   62  ...  3.430855        0.000281   0.000281\n",
              "2          3       2   58  ...  3.430855       -0.001718  -0.001718\n",
              "3          4       2   62  ...  3.409393       -0.004694  -0.004557\n",
              "4          5       1   58  ...  3.409393       -0.007051  -0.007051\n",
              "\n",
              "[5 rows x 16 columns]"
            ]
          },
          "metadata": {
            "tags": []
          },
          "execution_count": 5
        }
      ]
    },
    {
      "cell_type": "code",
      "metadata": {
        "id": "CdfGlaxIkzKY",
        "colab_type": "code",
        "outputId": "7195b190-7e22-48a0-8af9-f2f495bab7b0",
        "colab": {
          "base_uri": "https://localhost:8080/",
          "height": 202
        }
      },
      "source": [
        "StockInfo.tail()"
      ],
      "execution_count": 0,
      "outputs": [
        {
          "output_type": "execute_result",
          "data": {
            "text/html": [
              "<div>\n",
              "<style scoped>\n",
              "    .dataframe tbody tr th:only-of-type {\n",
              "        vertical-align: middle;\n",
              "    }\n",
              "\n",
              "    .dataframe tbody tr th {\n",
              "        vertical-align: top;\n",
              "    }\n",
              "\n",
              "    .dataframe thead th {\n",
              "        text-align: right;\n",
              "    }\n",
              "</style>\n",
              "<table border=\"1\" class=\"dataframe\">\n",
              "  <thead>\n",
              "    <tr style=\"text-align: right;\">\n",
              "      <th></th>\n",
              "      <th>CompanyNo</th>\n",
              "      <th>Gender</th>\n",
              "      <th>Age</th>\n",
              "      <th>Educationcoded</th>\n",
              "      <th>children</th>\n",
              "      <th>sectorcode</th>\n",
              "      <th>popperlesshS</th>\n",
              "      <th>population</th>\n",
              "      <th>popbelowpovlevel</th>\n",
              "      <th>percentmenbusiness</th>\n",
              "      <th>percentfemalebusiness</th>\n",
              "      <th>implicitatt</th>\n",
              "      <th>exp1career</th>\n",
              "      <th>exp2fam</th>\n",
              "      <th>Slopeafterhire</th>\n",
              "      <th>fullslope</th>\n",
              "    </tr>\n",
              "  </thead>\n",
              "  <tbody>\n",
              "    <tr>\n",
              "      <th>216</th>\n",
              "      <td>217</td>\n",
              "      <td>2</td>\n",
              "      <td>55</td>\n",
              "      <td>3.0</td>\n",
              "      <td>4.0</td>\n",
              "      <td>35</td>\n",
              "      <td>9.6</td>\n",
              "      <td>6138382</td>\n",
              "      <td>8.0</td>\n",
              "      <td>52.1</td>\n",
              "      <td>47.9</td>\n",
              "      <td>0.342364</td>\n",
              "      <td>4.349400</td>\n",
              "      <td>3.430855</td>\n",
              "      <td>0.008688</td>\n",
              "      <td>0.008688</td>\n",
              "    </tr>\n",
              "    <tr>\n",
              "      <th>217</th>\n",
              "      <td>218</td>\n",
              "      <td>2</td>\n",
              "      <td>53</td>\n",
              "      <td>3.0</td>\n",
              "      <td>NaN</td>\n",
              "      <td>35</td>\n",
              "      <td>8.0</td>\n",
              "      <td>6069448</td>\n",
              "      <td>12.6</td>\n",
              "      <td>54.6</td>\n",
              "      <td>45.4</td>\n",
              "      <td>0.333241</td>\n",
              "      <td>4.347377</td>\n",
              "      <td>3.433144</td>\n",
              "      <td>0.006300</td>\n",
              "      <td>0.006257</td>\n",
              "    </tr>\n",
              "    <tr>\n",
              "      <th>218</th>\n",
              "      <td>219</td>\n",
              "      <td>2</td>\n",
              "      <td>53</td>\n",
              "      <td>4.0</td>\n",
              "      <td>NaN</td>\n",
              "      <td>13</td>\n",
              "      <td>7.0</td>\n",
              "      <td>4811732</td>\n",
              "      <td>9.8</td>\n",
              "      <td>53.7</td>\n",
              "      <td>46.3</td>\n",
              "      <td>0.343589</td>\n",
              "      <td>4.353727</td>\n",
              "      <td>3.460972</td>\n",
              "      <td>0.008107</td>\n",
              "      <td>0.007879</td>\n",
              "    </tr>\n",
              "    <tr>\n",
              "      <th>219</th>\n",
              "      <td>220</td>\n",
              "      <td>2</td>\n",
              "      <td>64</td>\n",
              "      <td>3.0</td>\n",
              "      <td>1.0</td>\n",
              "      <td>91</td>\n",
              "      <td>9.4</td>\n",
              "      <td>1615516</td>\n",
              "      <td>12.5</td>\n",
              "      <td>52.9</td>\n",
              "      <td>47.1</td>\n",
              "      <td>0.342665</td>\n",
              "      <td>4.177096</td>\n",
              "      <td>3.352179</td>\n",
              "      <td>0.008345</td>\n",
              "      <td>0.008345</td>\n",
              "    </tr>\n",
              "    <tr>\n",
              "      <th>220</th>\n",
              "      <td>221</td>\n",
              "      <td>2</td>\n",
              "      <td>59</td>\n",
              "      <td>4.0</td>\n",
              "      <td>NaN</td>\n",
              "      <td>82</td>\n",
              "      <td>7.3</td>\n",
              "      <td>444014</td>\n",
              "      <td>10.0</td>\n",
              "      <td>55.7</td>\n",
              "      <td>44.3</td>\n",
              "      <td>0.323369</td>\n",
              "      <td>4.227513</td>\n",
              "      <td>3.409574</td>\n",
              "      <td>-0.002418</td>\n",
              "      <td>-0.002041</td>\n",
              "    </tr>\n",
              "  </tbody>\n",
              "</table>\n",
              "</div>"
            ],
            "text/plain": [
              "     CompanyNo  Gender  Age  ...   exp2fam  Slopeafterhire  fullslope\n",
              "216        217       2   55  ...  3.430855        0.008688   0.008688\n",
              "217        218       2   53  ...  3.433144        0.006300   0.006257\n",
              "218        219       2   53  ...  3.460972        0.008107   0.007879\n",
              "219        220       2   64  ...  3.352179        0.008345   0.008345\n",
              "220        221       2   59  ...  3.409574       -0.002418  -0.002041\n",
              "\n",
              "[5 rows x 16 columns]"
            ]
          },
          "metadata": {
            "tags": []
          },
          "execution_count": 76
        }
      ]
    },
    {
      "cell_type": "code",
      "metadata": {
        "id": "7N5JRV5okSnR",
        "colab_type": "code",
        "outputId": "fc644e53-7b80-45fb-fe74-6390e0f79634",
        "colab": {
          "base_uri": "https://localhost:8080/",
          "height": 104
        }
      },
      "source": [
        "StockInfo.columns"
      ],
      "execution_count": 0,
      "outputs": [
        {
          "output_type": "execute_result",
          "data": {
            "text/plain": [
              "Index(['CompanyNo', 'Gender', 'Age', 'Educationcoded', 'children',\n",
              "       'sectorcode', 'popperlesshS', 'population', 'popbelowpovlevel',\n",
              "       'percentmenbusiness', 'percentfemalebusiness', 'implicitatt',\n",
              "       'exp1career', 'exp2fam', 'Slopeafterhire', 'fullslope'],\n",
              "      dtype='object')"
            ]
          },
          "metadata": {
            "tags": []
          },
          "execution_count": 77
        }
      ]
    },
    {
      "cell_type": "markdown",
      "metadata": {
        "id": "WXSHDk51Wijp",
        "colab_type": "text"
      },
      "source": [
        "# REPLACE MISSING VALUES USING KNN TECHNIQUE\n",
        "\n",
        "[More info about this replacement method here](https://towardsdatascience.com/the-use-of-knn-for-missing-values-cf33d935c637)"
      ]
    },
    {
      "cell_type": "code",
      "metadata": {
        "id": "CyBB-36MIvZj",
        "colab_type": "code",
        "outputId": "4c6290e1-d2ed-4228-e241-945db86ba845",
        "colab": {
          "base_uri": "https://localhost:8080/",
          "height": 242
        }
      },
      "source": [
        "from sklearn.impute import KNNImputer\n",
        "imputerStockInfo = KNNImputer(n_neighbors=2)\n",
        "imputerStockInfo.fit_transform(StockInfo)"
      ],
      "execution_count": 0,
      "outputs": [
        {
          "output_type": "execute_result",
          "data": {
            "text/plain": [
              "array([[ 1.00e+00,  2.00e+00,  7.60e+01, ...,  3.58e+00,  6.57e-03,\n",
              "         6.57e-03],\n",
              "       [ 2.00e+00,  2.00e+00,  6.20e+01, ...,  3.43e+00,  2.81e-04,\n",
              "         2.81e-04],\n",
              "       [ 3.00e+00,  2.00e+00,  5.80e+01, ...,  3.43e+00, -1.72e-03,\n",
              "        -1.72e-03],\n",
              "       ...,\n",
              "       [ 2.19e+02,  2.00e+00,  5.30e+01, ...,  3.46e+00,  8.11e-03,\n",
              "         7.88e-03],\n",
              "       [ 2.20e+02,  2.00e+00,  6.40e+01, ...,  3.35e+00,  8.34e-03,\n",
              "         8.34e-03],\n",
              "       [ 2.21e+02,  2.00e+00,  5.90e+01, ...,  3.41e+00, -2.42e-03,\n",
              "        -2.04e-03]])"
            ]
          },
          "metadata": {
            "tags": []
          },
          "execution_count": 78
        }
      ]
    },
    {
      "cell_type": "markdown",
      "metadata": {
        "id": "ghjdNiIfZk41",
        "colab_type": "text"
      },
      "source": [
        "# MAKE A NEW DATAFRAME WITH NEW VALUES AND CHECK VALUES\n"
      ]
    },
    {
      "cell_type": "code",
      "metadata": {
        "id": "qMpvpFt0e1gJ",
        "colab_type": "code",
        "colab": {}
      },
      "source": [
        "StockInfoedit = pd.DataFrame(imputerStockInfo.fit_transform(StockInfo))"
      ],
      "execution_count": 0,
      "outputs": []
    },
    {
      "cell_type": "code",
      "metadata": {
        "id": "cSOPCQe5kAj0",
        "colab_type": "code",
        "colab": {}
      },
      "source": [
        "StockInfoedit.columns = StockInfo.columns"
      ],
      "execution_count": 0,
      "outputs": []
    },
    {
      "cell_type": "code",
      "metadata": {
        "id": "YHz-auoqk5yX",
        "colab_type": "code",
        "outputId": "59220626-c45d-498f-afba-bda59af40c18",
        "colab": {
          "base_uri": "https://localhost:8080/",
          "height": 202
        }
      },
      "source": [
        "StockInfoedit.head()"
      ],
      "execution_count": 0,
      "outputs": [
        {
          "output_type": "execute_result",
          "data": {
            "text/html": [
              "<div>\n",
              "<style scoped>\n",
              "    .dataframe tbody tr th:only-of-type {\n",
              "        vertical-align: middle;\n",
              "    }\n",
              "\n",
              "    .dataframe tbody tr th {\n",
              "        vertical-align: top;\n",
              "    }\n",
              "\n",
              "    .dataframe thead th {\n",
              "        text-align: right;\n",
              "    }\n",
              "</style>\n",
              "<table border=\"1\" class=\"dataframe\">\n",
              "  <thead>\n",
              "    <tr style=\"text-align: right;\">\n",
              "      <th></th>\n",
              "      <th>CompanyNo</th>\n",
              "      <th>Gender</th>\n",
              "      <th>Age</th>\n",
              "      <th>Educationcoded</th>\n",
              "      <th>children</th>\n",
              "      <th>sectorcode</th>\n",
              "      <th>popperlesshS</th>\n",
              "      <th>population</th>\n",
              "      <th>popbelowpovlevel</th>\n",
              "      <th>percentmenbusiness</th>\n",
              "      <th>percentfemalebusiness</th>\n",
              "      <th>implicitatt</th>\n",
              "      <th>exp1career</th>\n",
              "      <th>exp2fam</th>\n",
              "      <th>Slopeafterhire</th>\n",
              "      <th>fullslope</th>\n",
              "      <th>jobdiff</th>\n",
              "    </tr>\n",
              "  </thead>\n",
              "  <tbody>\n",
              "    <tr>\n",
              "      <th>0</th>\n",
              "      <td>1.0</td>\n",
              "      <td>2.0</td>\n",
              "      <td>76.0</td>\n",
              "      <td>1.0</td>\n",
              "      <td>2.5</td>\n",
              "      <td>1.0</td>\n",
              "      <td>7.8</td>\n",
              "      <td>834615.0</td>\n",
              "      <td>10.7</td>\n",
              "      <td>55.2</td>\n",
              "      <td>44.8</td>\n",
              "      <td>0.363725</td>\n",
              "      <td>4.391218</td>\n",
              "      <td>3.584493</td>\n",
              "      <td>0.006573</td>\n",
              "      <td>0.006573</td>\n",
              "      <td>10.4</td>\n",
              "    </tr>\n",
              "    <tr>\n",
              "      <th>1</th>\n",
              "      <td>2.0</td>\n",
              "      <td>2.0</td>\n",
              "      <td>62.0</td>\n",
              "      <td>2.0</td>\n",
              "      <td>3.0</td>\n",
              "      <td>2.0</td>\n",
              "      <td>9.6</td>\n",
              "      <td>6138382.0</td>\n",
              "      <td>8.0</td>\n",
              "      <td>52.1</td>\n",
              "      <td>47.9</td>\n",
              "      <td>0.342364</td>\n",
              "      <td>4.349400</td>\n",
              "      <td>3.430855</td>\n",
              "      <td>0.000281</td>\n",
              "      <td>0.000281</td>\n",
              "      <td>4.2</td>\n",
              "    </tr>\n",
              "    <tr>\n",
              "      <th>2</th>\n",
              "      <td>3.0</td>\n",
              "      <td>2.0</td>\n",
              "      <td>58.0</td>\n",
              "      <td>1.0</td>\n",
              "      <td>3.0</td>\n",
              "      <td>3.0</td>\n",
              "      <td>9.6</td>\n",
              "      <td>6138382.0</td>\n",
              "      <td>8.0</td>\n",
              "      <td>52.1</td>\n",
              "      <td>47.9</td>\n",
              "      <td>0.342364</td>\n",
              "      <td>4.349400</td>\n",
              "      <td>3.430855</td>\n",
              "      <td>-0.001718</td>\n",
              "      <td>-0.001718</td>\n",
              "      <td>4.2</td>\n",
              "    </tr>\n",
              "    <tr>\n",
              "      <th>3</th>\n",
              "      <td>4.0</td>\n",
              "      <td>2.0</td>\n",
              "      <td>62.0</td>\n",
              "      <td>3.0</td>\n",
              "      <td>4.0</td>\n",
              "      <td>4.0</td>\n",
              "      <td>10.7</td>\n",
              "      <td>5779463.0</td>\n",
              "      <td>13.1</td>\n",
              "      <td>54.1</td>\n",
              "      <td>45.9</td>\n",
              "      <td>0.344999</td>\n",
              "      <td>4.355876</td>\n",
              "      <td>3.409393</td>\n",
              "      <td>-0.004694</td>\n",
              "      <td>-0.004557</td>\n",
              "      <td>8.2</td>\n",
              "    </tr>\n",
              "    <tr>\n",
              "      <th>4</th>\n",
              "      <td>5.0</td>\n",
              "      <td>1.0</td>\n",
              "      <td>58.0</td>\n",
              "      <td>4.0</td>\n",
              "      <td>2.0</td>\n",
              "      <td>5.0</td>\n",
              "      <td>10.7</td>\n",
              "      <td>5779463.0</td>\n",
              "      <td>13.1</td>\n",
              "      <td>54.1</td>\n",
              "      <td>45.9</td>\n",
              "      <td>0.344999</td>\n",
              "      <td>4.355876</td>\n",
              "      <td>3.409393</td>\n",
              "      <td>-0.007051</td>\n",
              "      <td>-0.007051</td>\n",
              "      <td>8.2</td>\n",
              "    </tr>\n",
              "  </tbody>\n",
              "</table>\n",
              "</div>"
            ],
            "text/plain": [
              "   CompanyNo  Gender   Age  ...  Slopeafterhire  fullslope  jobdiff\n",
              "0        1.0     2.0  76.0  ...        0.006573   0.006573     10.4\n",
              "1        2.0     2.0  62.0  ...        0.000281   0.000281      4.2\n",
              "2        3.0     2.0  58.0  ...       -0.001718  -0.001718      4.2\n",
              "3        4.0     2.0  62.0  ...       -0.004694  -0.004557      8.2\n",
              "4        5.0     1.0  58.0  ...       -0.007051  -0.007051      8.2\n",
              "\n",
              "[5 rows x 17 columns]"
            ]
          },
          "metadata": {
            "tags": []
          },
          "execution_count": 84
        }
      ]
    },
    {
      "cell_type": "code",
      "metadata": {
        "id": "DVoc0rKzjH_X",
        "colab_type": "code",
        "colab": {}
      },
      "source": [
        "StockInfoedit.tail()"
      ],
      "execution_count": 0,
      "outputs": []
    },
    {
      "cell_type": "code",
      "metadata": {
        "id": "1gsqwYU4X5nr",
        "colab_type": "code",
        "colab": {}
      },
      "source": [
        "StockInfoedit['jobdiff']=StockInfoedit.percentmenbusiness-StockInfoedit.percentfemalebusiness"
      ],
      "execution_count": 0,
      "outputs": []
    },
    {
      "cell_type": "code",
      "metadata": {
        "id": "lOsJQ0kaFBbw",
        "colab_type": "code",
        "colab": {}
      },
      "source": [
        "def evaluate(model, test_features, test_labels):\n",
        "      predictions = model.predict(test_features)\n",
        "      errors = abs(predictions - test_labels)\n",
        "      mape = 100 * np.mean(errors / test_labels)\n",
        "      accuracy = 100 - mape\n",
        "      print('Model Performance')\n",
        "      print('Average Error: {:0.4f} degrees.'.format(np.mean(errors)))\n",
        "      print('Accuracy = {:0.2f}%.'.format(accuracy))\n",
        "      print(\"score\", model.score(test_features, test_labels))\n",
        "    \n",
        "      return accuracy"
      ],
      "execution_count": 0,
      "outputs": []
    },
    {
      "cell_type": "markdown",
      "metadata": {
        "id": "0B4KQHxQgb9P",
        "colab_type": "text"
      },
      "source": [
        "# Bootstrap loop and save all classification accuracies"
      ]
    },
    {
      "cell_type": "code",
      "metadata": {
        "id": "nLZunZhs3Xl-",
        "colab_type": "code",
        "outputId": "12333696-d8aa-401c-86bc-bbf87abc13e6",
        "colab": {
          "base_uri": "https://localhost:8080/",
          "height": 710
        }
      },
      "source": [
        "bootresults = pd.DataFrame({'iteration':[],'baseaccuracytrain':[],'baseaccuracytest':[],'randomaccuracytrain':[],'randomaccuracytest':[]})\n",
        "featuretotals = []\n",
        "bootres = []\n",
        "\n",
        "#-------------------------------\n",
        "rf_ls = []\n",
        "#-------------------------------\n",
        "\n",
        "\n",
        "import sklearn\n",
        "from sklearn.model_selection import train_test_split\n",
        "from sklearn.model_selection import RandomizedSearchCV\n",
        "from sklearn.ensemble import RandomForestClassifier\n",
        "\n",
        "for i in range(1000):\n",
        "\n",
        "  women = StockInfoedit[(StockInfoedit[\"Gender\"] == 1)] \n",
        "  men = StockInfoedit[(StockInfoedit[\"Gender\"] == 2)] \n",
        "  menboot = men.sample(32)\n",
        "  frames = [women, menboot]\n",
        "  newdata = pd.concat(frames)\n",
        "  X = newdata.drop(['CompanyNo','Gender','Slopeafterhire','percentmenbusiness','percentfemalebusiness','exp2fam'], axis = 1)\n",
        "  y = newdata.Gender\n",
        "\n",
        "\n",
        "  X_train, X_test, y_train, y_test = train_test_split(X, y, test_size=0.1, random_state=100)\n",
        "  X_train.describe()\n",
        "\n",
        "  #clstock = RandomForestClassifier(n_estimators=100, \n",
        "                      #  criterion='gini', max_depth=5).fit(X_train, y_train)\n",
        "  n_estimators = [int(x) for x in np.linspace(start = 10, stop = 100, num = 10)]\n",
        "# Number of features to consider at every split\n",
        "  max_features = ['auto', 'sqrt']\n",
        "# Maximum number of levels in tree\n",
        "  max_depth = [int(x) for x in np.linspace(2, 10, num = 11)]\n",
        "  max_depth.append(None)\n",
        "# Minimum number of samples required to split a node\n",
        "  min_samples_split = [2, 5, 10]\n",
        "# Minimum number of samples required at each leaf node\n",
        "  min_samples_leaf = [1, 2, 4]\n",
        "# Method of selecting samples for training each tree\n",
        "  bootstrap = [True, False]\n",
        "# Create the random grid\n",
        "  random_grid = {'n_estimators': n_estimators,\n",
        "               'max_features': max_features,\n",
        "               'max_depth': max_depth,\n",
        "               'min_samples_split': min_samples_split,\n",
        "               'min_samples_leaf': min_samples_leaf,\n",
        "               'bootstrap': bootstrap}              \n",
        "  #clstock.fit(X_train, y_train)\n",
        " # OGfit = clstock.fit(X_train, y_train)\n",
        " # OGscores = clstock.score(X_test, y_test\n",
        "  #print(clstock.score(X_test, y_test))\n",
        "  #print(clstock.feature_importances_)\n",
        "  rf = RandomForestClassifier()\n",
        "# Random search of parameters, using 3 fold cross validation, \n",
        "# search across 100 different combinations, and use all available cores\n",
        "  rf_random = RandomizedSearchCV(estimator = rf, param_distributions = random_grid, n_iter = 100, cv = 3, verbose=2, random_state=42, n_jobs = -1)\n",
        "# Fit the random search model\n",
        "  rf_random.fit(X_train, y_train)\n",
        "  \n",
        "  base_model = RandomForestClassifier(n_estimators = 10, random_state = 42, max_depth=3)\n",
        "  base_model.fit(X_train, y_train)\n",
        "  features = base_model.feature_importances_\n",
        "  basemodelfit = base_model.fit(X_train, y_train)\n",
        "  base_accuracy1 = evaluate(base_model, X_train, y_train)\n",
        "  base_accuracy2 = evaluate(base_model, X_test, y_test)\n",
        "  #print(\"###\")\n",
        "  best_random = rf_random.best_estimator_\n",
        "\n",
        "  #-------------------------------\n",
        "  rf_ls.append(best_random)\n",
        "  #-------------------------------\n",
        "\n",
        "  random_accuracy1 = evaluate(best_random, X_train, y_train)\n",
        "  random_accuracy2 = evaluate(best_random, X_test, y_test)\n",
        "  #still working on this part\n",
        "  bootresults = bootresults.append({'iteration':i,'baseaccuracytrain':base_accuracy1,'baseaccuracytest':base_accuracy2,'randomaccuracytrain':random_accuracy1,'randomaccuracytest':random_accuracy2}, ignore_index=True)\n",
        "  ##bootresults.append = ([i])\n",
        "#cols=['iteration']\n",
        "#totalbootres = pd.DataFrame(bootresults,columns=cols)\n",
        " # bootres = np.concatenate((bootres,bootresults1))\n",
        "  #bootframesfinal = pd.concat(bootframes)\n",
        "\n",
        "  \n",
        "  #featuretotals.append((clstock.feature_importances_))\n",
        "\n",
        "#bootresultstotal = bootresults\n",
        "#featuretotalsfinal = featuretotals\n",
        "bootresults.to_csv('bootstrapclassification.csv')"
      ],
      "execution_count": 0,
      "outputs": [
        {
          "output_type": "stream",
          "text": [
            "Fitting 3 folds for each of 100 candidates, totalling 300 fits\n"
          ],
          "name": "stdout"
        },
        {
          "output_type": "stream",
          "text": [
            "[Parallel(n_jobs=-1)]: Using backend LokyBackend with 2 concurrent workers.\n",
            "[Parallel(n_jobs=-1)]: Done  70 tasks      | elapsed:    4.7s\n",
            "[Parallel(n_jobs=-1)]: Done 300 out of 300 | elapsed:   19.0s finished\n",
            "[Parallel(n_jobs=-1)]: Using backend LokyBackend with 2 concurrent workers.\n"
          ],
          "name": "stderr"
        },
        {
          "output_type": "stream",
          "text": [
            "Model Performance\n",
            "Average Error: 0.1228 degrees.\n",
            "Accuracy = 92.11%.\n",
            "score 0.8771929824561403\n",
            "Model Performance\n",
            "Average Error: 0.2857 degrees.\n",
            "Accuracy = 85.71%.\n",
            "score 0.7142857142857143\n",
            "Model Performance\n",
            "Average Error: 0.1053 degrees.\n",
            "Accuracy = 92.98%.\n",
            "score 0.8947368421052632\n",
            "Model Performance\n",
            "Average Error: 0.4286 degrees.\n",
            "Accuracy = 78.57%.\n",
            "score 0.5714285714285714\n",
            "Fitting 3 folds for each of 100 candidates, totalling 300 fits\n"
          ],
          "name": "stdout"
        },
        {
          "output_type": "stream",
          "text": [
            "[Parallel(n_jobs=-1)]: Done  70 tasks      | elapsed:    4.7s\n"
          ],
          "name": "stderr"
        },
        {
          "output_type": "stream",
          "text": [
            "Model Performance\n",
            "Average Error: 0.0877 degrees.\n",
            "Accuracy = 94.74%.\n",
            "score 0.9122807017543859\n",
            "Model Performance\n",
            "Average Error: 0.5714 degrees.\n",
            "Accuracy = 64.29%.\n",
            "score 0.42857142857142855\n",
            "Model Performance\n",
            "Average Error: 0.0877 degrees.\n",
            "Accuracy = 92.11%.\n",
            "score 0.9122807017543859\n",
            "Model Performance\n",
            "Average Error: 0.4286 degrees.\n",
            "Accuracy = 78.57%.\n",
            "score 0.5714285714285714\n"
          ],
          "name": "stdout"
        },
        {
          "output_type": "stream",
          "text": [
            "[Parallel(n_jobs=-1)]: Done 300 out of 300 | elapsed:   18.7s finished\n"
          ],
          "name": "stderr"
        }
      ]
    },
    {
      "cell_type": "markdown",
      "metadata": {
        "id": "bezQMz5eNz9v",
        "colab_type": "text"
      },
      "source": [
        "# Load in saved data and model features"
      ]
    },
    {
      "cell_type": "code",
      "metadata": {
        "id": "C65CFmiQR-Ka",
        "colab_type": "code",
        "colab": {}
      },
      "source": [
        "feat = pd.DataFrame(data=featuretotals)"
      ],
      "execution_count": 0,
      "outputs": []
    },
    {
      "cell_type": "code",
      "metadata": {
        "id": "aAdMqTDaabx-",
        "colab_type": "code",
        "colab": {}
      },
      "source": [
        "testresults = pd.read_csv('bootstrapclassification.csv')"
      ],
      "execution_count": 0,
      "outputs": []
    },
    {
      "cell_type": "code",
      "metadata": {
        "id": "8jdf-UiHamOd",
        "colab_type": "code",
        "outputId": "12959bfd-f169-4e24-d2e1-98ae06667425",
        "colab": {
          "base_uri": "https://localhost:8080/",
          "height": 52
        }
      },
      "source": [
        "print(features)"
      ],
      "execution_count": 0,
      "outputs": [
        {
          "output_type": "stream",
          "text": [
            "[0.03826773 0.03831354 0.02603304 0.05280202 0.18572897 0.10601383\n",
            " 0.10525256 0.06730096 0.07564843 0.2067097  0.05224747 0.04568174]\n"
          ],
          "name": "stdout"
        }
      ]
    },
    {
      "cell_type": "code",
      "metadata": {
        "id": "0asF6xDsXtX7",
        "colab_type": "code",
        "outputId": "6a57917b-5169-4087-9739-c8eea5634c2b",
        "colab": {
          "base_uri": "https://localhost:8080/",
          "height": 202
        }
      },
      "source": [
        "testresults.head()"
      ],
      "execution_count": 0,
      "outputs": [
        {
          "output_type": "execute_result",
          "data": {
            "text/html": [
              "<div>\n",
              "<style scoped>\n",
              "    .dataframe tbody tr th:only-of-type {\n",
              "        vertical-align: middle;\n",
              "    }\n",
              "\n",
              "    .dataframe tbody tr th {\n",
              "        vertical-align: top;\n",
              "    }\n",
              "\n",
              "    .dataframe thead th {\n",
              "        text-align: right;\n",
              "    }\n",
              "</style>\n",
              "<table border=\"1\" class=\"dataframe\">\n",
              "  <thead>\n",
              "    <tr style=\"text-align: right;\">\n",
              "      <th></th>\n",
              "      <th>iteration</th>\n",
              "      <th>baseaccuracytrain</th>\n",
              "      <th>baseaccuracytest</th>\n",
              "      <th>randomaccuracytrain</th>\n",
              "      <th>randomaccuracytest</th>\n",
              "    </tr>\n",
              "  </thead>\n",
              "  <tbody>\n",
              "    <tr>\n",
              "      <th>0</th>\n",
              "      <td>0</td>\n",
              "      <td>87.719298</td>\n",
              "      <td>78.571429</td>\n",
              "      <td>92.982456</td>\n",
              "      <td>100.000000</td>\n",
              "    </tr>\n",
              "    <tr>\n",
              "      <th>1</th>\n",
              "      <td>1</td>\n",
              "      <td>78.947368</td>\n",
              "      <td>64.285714</td>\n",
              "      <td>83.333333</td>\n",
              "      <td>71.428571</td>\n",
              "    </tr>\n",
              "    <tr>\n",
              "      <th>2</th>\n",
              "      <td>2</td>\n",
              "      <td>90.350877</td>\n",
              "      <td>71.428571</td>\n",
              "      <td>86.842105</td>\n",
              "      <td>42.857143</td>\n",
              "    </tr>\n",
              "    <tr>\n",
              "      <th>3</th>\n",
              "      <td>3</td>\n",
              "      <td>90.350877</td>\n",
              "      <td>35.714286</td>\n",
              "      <td>93.859649</td>\n",
              "      <td>64.285714</td>\n",
              "    </tr>\n",
              "    <tr>\n",
              "      <th>4</th>\n",
              "      <td>4</td>\n",
              "      <td>86.842105</td>\n",
              "      <td>85.714286</td>\n",
              "      <td>84.210526</td>\n",
              "      <td>71.428571</td>\n",
              "    </tr>\n",
              "  </tbody>\n",
              "</table>\n",
              "</div>"
            ],
            "text/plain": [
              "   iteration  baseaccuracytrain  ...  randomaccuracytrain  randomaccuracytest\n",
              "0          0          87.719298  ...            92.982456          100.000000\n",
              "1          1          78.947368  ...            83.333333           71.428571\n",
              "2          2          90.350877  ...            86.842105           42.857143\n",
              "3          3          90.350877  ...            93.859649           64.285714\n",
              "4          4          86.842105  ...            84.210526           71.428571\n",
              "\n",
              "[5 rows x 5 columns]"
            ]
          },
          "metadata": {
            "tags": []
          },
          "execution_count": 65
        }
      ]
    },
    {
      "cell_type": "markdown",
      "metadata": {
        "id": "FPpI7WVJOS3v",
        "colab_type": "text"
      },
      "source": [
        "# Plot Bootstrap Distribution"
      ]
    },
    {
      "cell_type": "code",
      "metadata": {
        "id": "NvvGx_MJr_pe",
        "colab_type": "code",
        "colab": {}
      },
      "source": [
        "import matplotlib.pyplot as plt\n",
        "import seaborn as sns"
      ],
      "execution_count": 0,
      "outputs": []
    },
    {
      "cell_type": "code",
      "metadata": {
        "id": "rkJHSWSCrqmS",
        "colab_type": "code",
        "outputId": "49027e13-6f8c-43e8-dfe0-d9022074567d",
        "colab": {
          "base_uri": "https://localhost:8080/",
          "height": 296
        }
      },
      "source": [
        "sns.distplot(testresults['baseaccuracytrain'],hist = True, kde = True,\n",
        "                 kde_kws = {'shade': True, 'linewidth': 3})"
      ],
      "execution_count": 0,
      "outputs": [
        {
          "output_type": "execute_result",
          "data": {
            "text/plain": [
              "<matplotlib.axes._subplots.AxesSubplot at 0x7f807dc5e588>"
            ]
          },
          "metadata": {
            "tags": []
          },
          "execution_count": 71
        },
        {
          "output_type": "display_data",
          "data": {
            "image/png": "[encoded data removed]",
            "text/plain": [
              "<Figure size 432x288 with 1 Axes>"
            ]
          },
          "metadata": {
            "tags": [],
            "needs_background": "light"
          }
        }
      ]
    },
    {
      "cell_type": "code",
      "metadata": {
        "id": "doqKZmsbtV4D",
        "colab_type": "code",
        "outputId": "aabdfb07-3217-4701-840d-ede277664ff7",
        "colab": {
          "base_uri": "https://localhost:8080/",
          "height": 265
        }
      },
      "source": [
        "p1=sns.kdeplot(testresults['baseaccuracytrain'], shade=True, color=\"r\")\n",
        "p1=sns.kdeplot(testresults['baseaccuracytest'], shade=True, color=\"b\")\n"
      ],
      "execution_count": 0,
      "outputs": [
        {
          "output_type": "display_data",
          "data": {
            "image/png": "[encoded data removed]",
            "text/plain": [
              "<Figure size 432x288 with 1 Axes>"
            ]
          },
          "metadata": {
            "tags": [],
            "needs_background": "light"
          }
        }
      ]
    },
    {
      "cell_type": "code",
      "metadata": {
        "id": "sSbGN8f7uFea",
        "colab_type": "code",
        "colab": {}
      },
      "source": [
        ""
      ],
      "execution_count": 0,
      "outputs": []
    },
    {
      "cell_type": "markdown",
      "metadata": {
        "id": "9QXl7pSae1bw",
        "colab_type": "text"
      },
      "source": [
        "# PLOT CONFUSION MATRIX"
      ]
    },
    {
      "cell_type": "code",
      "metadata": {
        "id": "SMVSjC2QeaKk",
        "colab_type": "code",
        "outputId": "8095835c-596a-4ed1-bf0b-2edf839ebc59",
        "colab": {
          "base_uri": "https://localhost:8080/",
          "height": 1000
        }
      },
      "source": [
        "import itertools\n",
        "def plot_confusion_matrix(cm, classes,\n",
        "                          normalize=False,\n",
        "                          title='Confusion matrix',\n",
        "                          cmap=plt.cm.Blues):\n",
        "    \"\"\"\n",
        "    This function prints and plots the confusion matrix.\n",
        "    Normalization can be applied by setting `normalize=True`.\n",
        "    \"\"\"\n",
        "    if normalize:\n",
        "        cm = cm.astype('float') / cm.sum(axis=1)[:, np.newaxis]\n",
        "        print(\"Normalized confusion matrix\")\n",
        "    else:\n",
        "        print('Confusion matrix, without normalization')\n",
        "\n",
        "    #print(cm)\n",
        "\n",
        "    thresh = cm.max() / 2.\n",
        "    for i, j in itertools.product(range(cm.shape[0]), range(cm.shape[1])):\n",
        "        plt.text(j, i, \"%.2f\"%cm[i, j],\n",
        "                 horizontalalignment=\"center\",\n",
        "                 color=\"white\" if cm[i, j] > thresh else \"black\")\n",
        "\n",
        "    plt.imshow(cm, interpolation='nearest', cmap=cmap)\n",
        "    plt.title(title)\n",
        "    plt.colorbar()\n",
        "    tick_marks = np.arange(len(classes))\n",
        "    plt.xticks(tick_marks, classes, rotation=45)\n",
        "    plt.yticks(tick_marks, classes)\n",
        "\n",
        "\n",
        "    plt.tight_layout()\n",
        "    plt.ylabel('True label')\n",
        "    plt.xlabel('Predicted label')\n",
        "# Compute confusion matrix\n",
        "cnf_matrix = sklearn.metrics.confusion_matrix(y_test, base_model.predict(X_test))\n",
        "\n",
        "np.set_printoptions(precision=2)\n",
        "\n",
        "# Plot non-normalized confusion matrix\n",
        "plt.figure(figsize=(10,10))\n",
        "\n",
        "plot_confusion_matrix(cnf_matrix, classes=[\"%d\"%i for i in np.unique(y)],\n",
        "                      title='Confusion matrix, without normalization')\n",
        "\n",
        "# Plot normalized confusion matrix\n",
        "plt.figure(figsize=(10,10))\n",
        "np.set_printoptions(precision=2)\n",
        "plot_confusion_matrix(cnf_matrix, classes=[\"%d\"%i for i in np.unique(y)], normalize=True,\n",
        "                      title='Normalized confusion matrix')\n",
        "\n",
        "plt.show()"
      ],
      "execution_count": 0,
      "outputs": [
        {
          "output_type": "stream",
          "text": [
            "Confusion matrix, without normalization\n",
            "Normalized confusion matrix\n"
          ],
          "name": "stdout"
        },
        {
          "output_type": "display_data",
          "data": {
            "image/png": "[encoded data removed]",
            "text/plain": [
              "<Figure size 720x720 with 2 Axes>"
            ]
          },
          "metadata": {
            "tags": [],
            "needs_background": "light"
          }
        },
        {
          "output_type": "display_data",
          "data": {
            "image/png": "[encoded data removed]",
            "text/plain": [
              "<Figure size 720x720 with 2 Axes>"
            ]
          },
          "metadata": {
            "tags": [],
            "needs_background": "light"
          }
        }
      ]
    },
    {
      "cell_type": "markdown",
      "metadata": {
        "id": "92w623lAaEqZ",
        "colab_type": "text"
      },
      "source": [
        "# RUN CORRELATION AND COVARIANCE MATRICES TO OBSERVE YOUR FEATURES (MAKE SURE NOTHING IS TOO CORRELATED OR WONKY)"
      ]
    },
    {
      "cell_type": "code",
      "metadata": {
        "id": "zSrlLYk6N51f",
        "colab_type": "code",
        "colab": {}
      },
      "source": [
        "features = X.columns"
      ],
      "execution_count": 0,
      "outputs": []
    },
    {
      "cell_type": "code",
      "metadata": {
        "id": "w_i7Nr6soxCq",
        "colab_type": "code",
        "outputId": "900f12ff-8c1f-421d-8f20-babf94432d72",
        "colab": {
          "base_uri": "https://localhost:8080/",
          "height": 86
        }
      },
      "source": [
        "print(X.columns)"
      ],
      "execution_count": 0,
      "outputs": [
        {
          "output_type": "stream",
          "text": [
            "Index(['Age', 'Educationcoded', 'children', 'sectorcode', 'popperlesshS',\n",
            "       'population', 'popbelowpovlevel', 'implicitatt', 'exp1career',\n",
            "       'fullslope', 'jobdiff'],\n",
            "      dtype='object')\n"
          ],
          "name": "stdout"
        }
      ]
    },
    {
      "cell_type": "code",
      "metadata": {
        "id": "HLemv_DNYNOs",
        "colab_type": "code",
        "outputId": "f679f0eb-92c8-4574-86ca-53e672f444d4",
        "colab": {
          "base_uri": "https://localhost:8080/",
          "height": 349
        }
      },
      "source": [
        "corrMatrix = np.corrcoef(X.T)\n",
        "pl.imshow((corrMatrix))\n",
        "pl.colorbar()\n",
        "pl.xticks(range(len(features)), features, rotation=90)\n",
        "pl.yticks(range(len(features)), features);"
      ],
      "execution_count": 0,
      "outputs": [
        {
          "output_type": "display_data",
          "data": {
            "image/png": "[encoded data removed]",
            "text/plain": [
              "<Figure size 432x288 with 2 Axes>"
            ]
          },
          "metadata": {
            "tags": [],
            "needs_background": "light"
          }
        }
      ]
    },
    {
      "cell_type": "code",
      "metadata": {
        "id": "7XLDJW9tYRRU",
        "colab_type": "code",
        "outputId": "1d7328ee-8c74-4eb5-c897-47df9b15b7e5",
        "colab": {
          "base_uri": "https://localhost:8080/",
          "height": 345
        }
      },
      "source": [
        "covMatrix = np.cov(X.T)\n",
        "pl.imshow(np.log(covMatrix - covMatrix.min() + 0.01))\n",
        "pl.colorbar()\n",
        "pl.xticks(range(len(features)), features, rotation=90)\n",
        "pl.yticks(range(len(features)), features);"
      ],
      "execution_count": 0,
      "outputs": [
        {
          "output_type": "display_data",
          "data": {
            "image/png": "[encoded data removed]",
            "text/plain": [
              "<Figure size 432x288 with 2 Axes>"
            ]
          },
          "metadata": {
            "tags": [],
            "needs_background": "light"
          }
        }
      ]
    },
    {
      "cell_type": "markdown",
      "metadata": {
        "id": "ZQIdeN7_ao_r",
        "colab_type": "text"
      },
      "source": [
        "# WHAT FEATURES MATTER MOST? RUN FEATURE INDICES AND GRAPH"
      ]
    },
    {
      "cell_type": "code",
      "metadata": {
        "id": "oBd7XPWjYUp1",
        "colab_type": "code",
        "outputId": "24ec2495-cff2-4ee1-b2a6-f9037ad3eb27",
        "colab": {
          "base_uri": "https://localhost:8080/",
          "height": 34
        }
      },
      "source": [
        "importances = base_model.feature_importances_\n",
        "importances\n",
        "\n",
        "\n",
        "std = np.std([tree.feature_importances_ for tree in base_model.estimators_],\n",
        "             axis=0)\n",
        "indices = np.argsort(importances)[::-1]\n",
        "importances[indices]"
      ],
      "execution_count": 0,
      "outputs": [
        {
          "output_type": "execute_result",
          "data": {
            "text/plain": [
              "array([0.22, 0.17, 0.16, 0.11, 0.09, 0.08, 0.05, 0.04, 0.04, 0.03, 0.  ])"
            ]
          },
          "metadata": {
            "tags": []
          },
          "execution_count": 57
        }
      ]
    },
    {
      "cell_type": "code",
      "metadata": {
        "id": "spJdUkgHYWlJ",
        "colab_type": "code",
        "outputId": "844c4e22-46be-4e07-f902-9e5bab772ef9",
        "colab": {
          "base_uri": "https://localhost:8080/",
          "height": 569
        }
      },
      "source": [
        "\n",
        "# Print the feature ranking\n",
        "print(\"Feature ranking:\")\n",
        "\n",
        "for f in range(X.shape[1]):\n",
        "    print(\"%d. feature %s (%f)\" % (f + 1, np.array(features)[indices][f], importances[indices[f]]))\n",
        "\n",
        "# Plot the feature importances of the forest\n",
        "plt.figure()\n",
        "plt.title(\"Feature importances\")\n",
        "plt.bar(range(X.shape[1]), importances[indices],\n",
        "       color=\"r\", yerr=std[indices], align=\"center\")\n",
        "plt.xticks(range(X.shape[1]), np.array(features)[indices], rotation=90)\n",
        "plt.xlim([-1, X.shape[1]])\n",
        "plt.show()"
      ],
      "execution_count": 0,
      "outputs": [
        {
          "output_type": "stream",
          "text": [
            "Feature ranking:\n",
            "1. feature exp1career (0.224305)\n",
            "2. feature sectorcode (0.169888)\n",
            "3. feature popperlesshS (0.156097)\n",
            "4. feature implicitatt (0.112428)\n",
            "5. feature Educationcoded (0.093849)\n",
            "6. feature fullslope (0.080830)\n",
            "7. feature children (0.054782)\n",
            "8. feature popbelowpovlevel (0.043127)\n",
            "9. feature population (0.039637)\n",
            "10. feature jobdiff (0.025057)\n",
            "11. feature Age (0.000000)\n"
          ],
          "name": "stdout"
        },
        {
          "output_type": "display_data",
          "data": {
            "image/png": "[encoded data removed]",
            "text/plain": [
              "<Figure size 432x288 with 1 Axes>"
            ]
          },
          "metadata": {
            "tags": [],
            "needs_background": "light"
          }
        }
      ]
    },
    {
      "cell_type": "markdown",
      "metadata": {
        "id": "7oCFG4uNebeT",
        "colab_type": "text"
      },
      "source": [
        "# ROC Curve Creation"
      ]
    },
    {
      "cell_type": "code",
      "metadata": {
        "id": "4wVVOo5Ohh5P",
        "colab_type": "code",
        "colab": {}
      },
      "source": [
        "from sklearn.metrics import plot_roc_curve\n",
        "from sklearn.metrics import auc"
      ],
      "execution_count": 0,
      "outputs": []
    },
    {
      "cell_type": "code",
      "metadata": {
        "id": "UkkIi9uEhjpM",
        "colab_type": "code",
        "colab": {}
      },
      "source": [
        "# Updatin the figure features\n",
        "rcParams.update({'ytick.labelsize': 10})\n",
        "rcParams.update({'xtick.labelsize': 10})\n",
        "rcParams.update({'legend.fontsize': 9})\n",
        "rcParams.update({'figure.dpi': 300})\n",
        "rcParams.update({'legend.fontsize': 10})\n",
        "rcParams.update({'axes.labelsize': 10})\n",
        "\n",
        "fig, ax = plt.subplots(figsize=(6,5))\n",
        "tprs = []\n",
        "aucs = []\n",
        "mean_fpr = np.linspace(0, 1, 100)\n",
        "for i in range(10):\n",
        "  #plotting each roc curve\n",
        "  viz = plot_roc_curve(rf_ls[i], X, y, name='ROC fold {}'.format(i),\n",
        "                         alpha=0.3, lw=1, ax=ax)\n",
        "  interp_tpr = np.interp(mean_fpr, viz.fpr, viz.tpr)\n",
        "  interp_tpr[0] = 0.0\n",
        "  tprs.append(interp_tpr)\n",
        "  aucs.append(viz.roc_auc)\n",
        "#estimating the mean of true positive rate\n",
        "mean_tpr = np.mean(tprs, axis=0)\n",
        "mean_tpr[-1] = 1.0\n",
        "#finding the mean area under the curve\n",
        "mean_auc = auc(mean_fpr, mean_tpr)\n",
        "std_auc = np.std(aucs)\n",
        "ax.plot(mean_fpr, mean_tpr, color='b',\n",
        "        label=r'Mean ROC (AUC = %0.2f $\\pm$ %0.2f)' % (mean_auc, std_auc),\n",
        "        lw=2, alpha=.8)\n",
        "std_tpr = np.std(tprs, axis=0)\n",
        "tprs_upper = np.minimum(mean_tpr + std_tpr, 1)\n",
        "tprs_lower = np.maximum(mean_tpr - std_tpr, 0)\n",
        "ax.fill_between(mean_fpr, tprs_lower, tprs_upper, color='grey', alpha=.2,\n",
        "                label=r'$\\pm$ 1 std. dev.')\n",
        "\n",
        "ax.set(xlim=[-0.05, 1.05], ylim=[-0.05, 1.05])\n",
        "ax.legend(loc=\"lower right\")\n",
        "ax.set_title('Receiver Operating Characteristic Curve', fontsize = 10)\n",
        "plt.savefig('roc.png',bbox_inches='tight')"
      ],
      "execution_count": 0,
      "outputs": []
    }
  ]
}